{
 "cells": [
  {
   "cell_type": "markdown",
   "id": "3e102c08",
   "metadata": {},
   "source": [
    "# Task 6"
   ]
  },
  {
   "cell_type": "code",
   "execution_count": 12,
   "id": "b64671f2",
   "metadata": {},
   "outputs": [
    {
     "data": {
      "text/plain": [
       "['kaleem', 21, 'cse', 1, 2, 3, 4, 5]"
      ]
     },
     "execution_count": 12,
     "metadata": {},
     "output_type": "execute_result"
    }
   ],
   "source": [
    "myself=(\"kaleem\",21,\"cse\",1,2,3,4,5)\n",
    "king=list(myself)\n",
    "king"
   ]
  },
  {
   "cell_type": "code",
   "execution_count": 19,
   "id": "6921e1ef",
   "metadata": {},
   "outputs": [
    {
     "data": {
      "text/plain": [
       "['kaleem', 21, 'cse', 'c', 1, 2, 3, 4, 5]"
      ]
     },
     "execution_count": 19,
     "metadata": {},
     "output_type": "execute_result"
    }
   ],
   "source": [
    "myself=(\"kaleem\",21,\"cse\",1,2,3,4,5)\n",
    "king=list(myself)\n",
    "king.insert(3,\"c\")\n",
    "king"
   ]
  },
  {
   "cell_type": "markdown",
   "id": "24d40337",
   "metadata": {},
   "source": [
    "Remove"
   ]
  },
  {
   "cell_type": "code",
   "execution_count": 21,
   "id": "a91611df",
   "metadata": {},
   "outputs": [
    {
     "data": {
      "text/plain": [
       "['kaleem', 21, 'cse', 1, 2, 3, 4]"
      ]
     },
     "execution_count": 21,
     "metadata": {},
     "output_type": "execute_result"
    }
   ],
   "source": [
    "myself=(\"kaleem\",21,\"cse\",1,2,3,4,5)\n",
    "king=list(myself)\n",
    "king.remove(5)\n",
    "king"
   ]
  },
  {
   "cell_type": "code",
   "execution_count": 22,
   "id": "f0dd35ee",
   "metadata": {},
   "outputs": [
    {
     "data": {
      "text/plain": [
       "['kaleem', 21, 'cse', 2, 3, 4, 5]"
      ]
     },
     "execution_count": 22,
     "metadata": {},
     "output_type": "execute_result"
    }
   ],
   "source": [
    "myself=(\"kaleem\",21,\"cse\",1,2,3,4,5)\n",
    "king=list(myself)\n",
    "king.pop(3)\n",
    "king"
   ]
  },
  {
   "cell_type": "code",
   "execution_count": null,
   "id": "2f529c65",
   "metadata": {},
   "outputs": [],
   "source": []
  }
 ],
 "metadata": {
  "kernelspec": {
   "display_name": "Python 3",
   "language": "python",
   "name": "python3"
  },
  "language_info": {
   "codemirror_mode": {
    "name": "ipython",
    "version": 3
   },
   "file_extension": ".py",
   "mimetype": "text/x-python",
   "name": "python",
   "nbconvert_exporter": "python",
   "pygments_lexer": "ipython3",
   "version": "3.8.8"
  }
 },
 "nbformat": 4,
 "nbformat_minor": 5
}
