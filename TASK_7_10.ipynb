{
  "nbformat": 4,
  "nbformat_minor": 0,
  "metadata": {
    "colab": {
      "name": "TASK 7-10.ipynb",
      "provenance": []
    },
    "kernelspec": {
      "name": "python3",
      "display_name": "Python 3"
    }
  },
  "cells": [
    {
      "cell_type": "code",
      "metadata": {
        "id": "h4twJxyUySek"
      },
      "source": [
        ""
      ],
      "execution_count": null,
      "outputs": []
    },
    {
      "cell_type": "markdown",
      "metadata": {
        "id": "341rna0MoGlJ"
      },
      "source": [
        "# task 7"
      ]
    },
    {
      "cell_type": "code",
      "metadata": {
        "id": "NiAlf8vWeyMt",
        "colab": {
          "base_uri": "https://localhost:8080/"
        },
        "outputId": "0ff42a08-c639-488c-9475-45a2a1bc15b0"
      },
      "source": [
        "set1 = {1,2,3,4,5}\n",
        "set2 = {4,5,6,7,8}\n",
        "set3=set1.difference(set2)\n",
        "set3\n",
        "    \n",
        "    "
      ],
      "execution_count": null,
      "outputs": [
        {
          "output_type": "execute_result",
          "data": {
            "text/plain": [
              "{1, 2, 3}"
            ]
          },
          "metadata": {
            "tags": []
          },
          "execution_count": 45
        }
      ]
    },
    {
      "cell_type": "code",
      "metadata": {
        "colab": {
          "base_uri": "https://localhost:8080/"
        },
        "id": "3pgqri_xoM75",
        "outputId": "354f2aa8-9e33-498b-d9fd-fe6785d6e00f"
      },
      "source": [
        "set1 = {1,2,3,4,5}\n",
        "set2 = {4,5,6,7,8}\n",
        "set3=set1.symmetric_difference(set2)\n",
        "set3\n",
        "    "
      ],
      "execution_count": null,
      "outputs": [
        {
          "output_type": "execute_result",
          "data": {
            "text/plain": [
              "{1, 2, 3, 6, 7, 8}"
            ]
          },
          "metadata": {
            "tags": []
          },
          "execution_count": 2
        }
      ]
    },
    {
      "cell_type": "markdown",
      "metadata": {
        "id": "Vs4N286IoQG-"
      },
      "source": [
        "# Task 8"
      ]
    },
    {
      "cell_type": "code",
      "metadata": {
        "colab": {
          "base_uri": "https://localhost:8080/"
        },
        "id": "mR3VXSwgoZ84",
        "outputId": "587a86e9-363d-44ee-badc-33beb0d46275"
      },
      "source": [
        "set1 = {1,2,3,4,5}\n",
        "set2 = {4,5,6,7,8}\n",
        "set3 = set1.intersection(set2)\n",
        "set4 = set1.union(set2)\n",
        "set5 = set1.symmetric_difference_update(set2)\n",
        "set6 = set1.intersection_update(set2)\n",
        "set7 = set1.issubset(set2)\n",
        "print(set3,set4,set5,set6,set7,sep=\" \\n\\n\")\n"
      ],
      "execution_count": null,
      "outputs": [
        {
          "output_type": "stream",
          "text": [
            "{4, 5} \n",
            "\n",
            "{1, 2, 3, 4, 5, 6, 7, 8} \n",
            "\n",
            "None \n",
            "\n",
            "None \n",
            "\n",
            "True\n"
          ],
          "name": "stdout"
        }
      ]
    },
    {
      "cell_type": "code",
      "metadata": {
        "id": "jky43ClwoMVc"
      },
      "source": [
        ""
      ],
      "execution_count": null,
      "outputs": []
    },
    {
      "cell_type": "markdown",
      "metadata": {
        "id": "4q0k8e_foaHz"
      },
      "source": [
        "#TASK10\n"
      ]
    },
    {
      "cell_type": "code",
      "metadata": {
        "colab": {
          "base_uri": "https://localhost:8080/"
        },
        "id": "4zwCuIVytnQO",
        "outputId": "0b6e1459-0e30-472b-97c1-70136b51c933"
      },
      "source": [
        "n=int(input())\n",
        "for i in range(0,n):\n",
        "  if (i==7):\n",
        "    continue\n",
        "  print(i) "
      ],
      "execution_count": null,
      "outputs": [
        {
          "output_type": "stream",
          "text": [
            "10\n"
          ],
          "name": "stdout"
        }
      ]
    },
    {
      "cell_type": "code",
      "metadata": {
        "colab": {
          "base_uri": "https://localhost:8080/"
        },
        "id": "BV4Sqc7Tuefv",
        "outputId": "0e5fdca9-96b0-4b1b-8699-1f56f1a90f40"
      },
      "source": [
        "count=10\n",
        "while count>0:\n",
        "  print(count)\n",
        "  count=count-1\n"
      ],
      "execution_count": null,
      "outputs": [
        {
          "output_type": "stream",
          "text": [
            "10\n",
            "9\n",
            "8\n",
            "7\n",
            "6\n",
            "5\n",
            "4\n",
            "3\n",
            "2\n",
            "1\n"
          ],
          "name": "stdout"
        }
      ]
    },
    {
      "cell_type": "code",
      "metadata": {
        "colab": {
          "base_uri": "https://localhost:8080/"
        },
        "id": "bCKQ5X8Zu3HQ",
        "outputId": "c694a1c4-3811-4629-b120-4ceac78ea96b"
      },
      "source": [
        "sets={1,2,3,4,5,6,7,8,9,\"vardhaman\",\"kaleem\"}\n",
        "for i in sets:\n",
        "  print(i)"
      ],
      "execution_count": null,
      "outputs": [
        {
          "output_type": "stream",
          "text": [
            "1\n",
            "2\n",
            "3\n",
            "4\n",
            "5\n",
            "6\n",
            "7\n",
            "8\n",
            "9\n",
            "kaleem\n",
            "vardhaman\n"
          ],
          "name": "stdout"
        }
      ]
    },
    {
      "cell_type": "code",
      "metadata": {
        "colab": {
          "base_uri": "https://localhost:8080/"
        },
        "id": "hWz8cS5cwPBq",
        "outputId": "c889413e-5219-40f2-84f9-f3555631a3c8"
      },
      "source": [
        "dict1={\"name\":\"kaleem\",\"friend\":\"vardhaman\",\"age\":21,\"height\":6.0 }\n",
        "for i in dict1:\n",
        "  print(i)"
      ],
      "execution_count": null,
      "outputs": [
        {
          "output_type": "stream",
          "text": [
            "name\n",
            "friend\n",
            "age\n",
            "height\n"
          ],
          "name": "stdout"
        }
      ]
    },
    {
      "cell_type": "code",
      "metadata": {
        "id": "IiyJ59Fve7RJ",
        "colab": {
          "base_uri": "https://localhost:8080/"
        },
        "outputId": "d51c20e8-845a-43ee-e5de-38e6bd5389db"
      },
      "source": [
        "tuple1=(1, 22 , 33 , 44 ,55 ,66, 77 , 88, 99)\n",
        "for i in tuple1:\n",
        "  print(i,end=\" \")"
      ],
      "execution_count": null,
      "outputs": [
        {
          "output_type": "stream",
          "text": [
            "1 22 33 44 55 66 77 88 99 "
          ],
          "name": "stdout"
        }
      ]
    },
    {
      "cell_type": "code",
      "metadata": {
        "id": "RAuEEnsfQRdF"
      },
      "source": [
        ""
      ],
      "execution_count": null,
      "outputs": []
    }
  ]
}