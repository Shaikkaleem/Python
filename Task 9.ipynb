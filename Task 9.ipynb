{
 "cells": [
  {
   "cell_type": "markdown",
   "id": "b742e67c",
   "metadata": {},
   "source": [
    "# Task 9"
   ]
  },
  {
   "cell_type": "code",
   "execution_count": 8,
   "id": "ddacafe3",
   "metadata": {},
   "outputs": [
    {
     "name": "stdout",
     "output_type": "stream",
     "text": [
      "Hello! Enter your Numbers\n",
      "4\n",
      "6\n",
      "1-Add 2-Sub 3-Mul 4-Div\n",
      "1\n",
      "10\n"
     ]
    }
   ],
   "source": [
    "print(\"Hello! Enter your Numbers\")\n",
    "num1=int(input())\n",
    "num2=int(input())\n",
    "print(\"1-Add 2-Sub 3-Mul 4-Div\")\n",
    "opp=int(input())\n",
    "if(opp==1):\n",
    "    print(num1+num2)\n",
    "elif(opp==2):\n",
    "    print(num1-num2)\n",
    "elif(opp==3):\n",
    "    print(num1*num2)\n",
    "elif(opp==4):\n",
    "    print(num1/num2)\n",
    "else:\n",
    "    print(\"Wrong Input\")\n"
   ]
  },
  {
   "cell_type": "code",
   "execution_count": null,
   "id": "e5cc608f",
   "metadata": {},
   "outputs": [],
   "source": []
  }
 ],
 "metadata": {
  "kernelspec": {
   "display_name": "Python 3",
   "language": "python",
   "name": "python3"
  },
  "language_info": {
   "codemirror_mode": {
    "name": "ipython",
    "version": 3
   },
   "file_extension": ".py",
   "mimetype": "text/x-python",
   "name": "python",
   "nbconvert_exporter": "python",
   "pygments_lexer": "ipython3",
   "version": "3.8.8"
  }
 },
 "nbformat": 4,
 "nbformat_minor": 5
}
