{
 "cells": [
  {
   "cell_type": "markdown",
   "id": "b7d7c942",
   "metadata": {},
   "source": [
    "# Task 3.1"
   ]
  },
  {
   "cell_type": "code",
   "execution_count": 4,
   "id": "60598ca5",
   "metadata": {},
   "outputs": [
    {
     "data": {
      "text/plain": [
       "[1, 3, 4]"
      ]
     },
     "execution_count": 4,
     "metadata": {},
     "output_type": "execute_result"
    }
   ],
   "source": [
    "kaleem=[1,\"kaleem1\",3,4,4,4,3,4,3]\n",
    "kaleem.remove(\"kaleem1\")\n",
    "kaleem"
   ]
  },
  {
   "cell_type": "code",
   "execution_count": 14,
   "id": "478f82dc",
   "metadata": {},
   "outputs": [
    {
     "data": {
      "text/plain": [
       "5"
      ]
     },
     "execution_count": 14,
     "metadata": {},
     "output_type": "execute_result"
    }
   ],
   "source": [
    "kaleem=[1,\"kaleem1\",3,4,4,4,4,3,4,3]\n",
    "v=kaleem.count(4)\n",
    "v"
   ]
  },
  {
   "cell_type": "code",
   "execution_count": 18,
   "id": "308beefd",
   "metadata": {},
   "outputs": [
    {
     "data": {
      "text/plain": [
       "[77, 88, 99]"
      ]
     },
     "execution_count": 18,
     "metadata": {},
     "output_type": "execute_result"
    }
   ],
   "source": [
    "kaleem=[1,\"kaleem1\",3,4,4,4,4,3,4,3]\n",
    "vardhaman=[77,88,99]\n",
    "kaleem.clear()\n",
    "kaleem\n",
    "vardhaman"
   ]
  },
  {
   "cell_type": "code",
   "execution_count": 26,
   "id": "1b2b0ddf",
   "metadata": {},
   "outputs": [
    {
     "data": {
      "text/plain": [
       "[1, 3, 3, 3, 4, 4, 4, 4, 4]"
      ]
     },
     "execution_count": 26,
     "metadata": {},
     "output_type": "execute_result"
    }
   ],
   "source": [
    "kaleem=[1,3,4,4,4,4,3,4,3]\n",
    "kaleem.sort()\n",
    "kaleem"
   ]
  },
  {
   "cell_type": "code",
   "execution_count": 27,
   "id": "8fb6408f",
   "metadata": {},
   "outputs": [
    {
     "data": {
      "text/plain": [
       "[9, 8, 7, 6, 5, 4, 3, 2, 1]"
      ]
     },
     "execution_count": 27,
     "metadata": {},
     "output_type": "execute_result"
    }
   ],
   "source": [
    "kaleem=[1,2,3,4,5,6,7,8,9]\n",
    "kaleem.reverse()\n",
    "kaleem"
   ]
  },
  {
   "cell_type": "markdown",
   "id": "46de8586",
   "metadata": {},
   "source": [
    "# 3.2"
   ]
  },
  {
   "cell_type": "code",
   "execution_count": 37,
   "id": "412a6f2a",
   "metadata": {},
   "outputs": [
    {
     "data": {
      "text/plain": [
       "[5, 6, 7, 8, 9]"
      ]
     },
     "execution_count": 37,
     "metadata": {},
     "output_type": "execute_result"
    }
   ],
   "source": [
    "list1=[1,2,3,4,5,6,7,8,9,0]\n",
    "five=list1[4:9]\n",
    "five"
   ]
  },
  {
   "cell_type": "markdown",
   "id": "0408eb99",
   "metadata": {},
   "source": [
    "# Task 4"
   ]
  },
  {
   "cell_type": "code",
   "execution_count": 86,
   "id": "d90b78c5",
   "metadata": {},
   "outputs": [
    {
     "data": {
      "text/plain": [
       "[10, 20, [30, 40, [50, 60, 70], 80], 90, 100]"
      ]
     },
     "execution_count": 86,
     "metadata": {},
     "output_type": "execute_result"
    }
   ],
   "source": [
    "l1 = [10, 20, [30, 40, [50, 60], 80], 90, 100]\n",
    "l2=l1[2][2]+[70]\n",
    "l3=l2\n",
    "l1[2][2]=l3\n",
    "l3=l1\n",
    "l1"
   ]
  },
  {
   "cell_type": "code",
   "execution_count": 109,
   "id": "a034dfbf",
   "metadata": {},
   "outputs": [
    {
     "data": {
      "text/plain": [
       "[1, 2, [3, 4, 5, 6, [7, 8]], 9]"
      ]
     },
     "execution_count": 109,
     "metadata": {},
     "output_type": "execute_result"
    }
   ],
   "source": [
    "l2 = [1,2,[3,4,5,6],9]\n",
    "l1=l2[2]\n",
    "l1=l1+[[7,8]]\n",
    "l2[2]=l1\n",
    "l1=l2\n",
    "l2"
   ]
  },
  {
   "cell_type": "code",
   "execution_count": null,
   "id": "93f12f90",
   "metadata": {},
   "outputs": [],
   "source": [
    "\n"
   ]
  },
  {
   "cell_type": "code",
   "execution_count": null,
   "id": "b4413c0f",
   "metadata": {},
   "outputs": [],
   "source": []
  }
 ],
 "metadata": {
  "kernelspec": {
   "display_name": "Python 3",
   "language": "python",
   "name": "python3"
  },
  "language_info": {
   "codemirror_mode": {
    "name": "ipython",
    "version": 3
   },
   "file_extension": ".py",
   "mimetype": "text/x-python",
   "name": "python",
   "nbconvert_exporter": "python",
   "pygments_lexer": "ipython3",
   "version": "3.8.8"
  }
 },
 "nbformat": 4,
 "nbformat_minor": 5
}
